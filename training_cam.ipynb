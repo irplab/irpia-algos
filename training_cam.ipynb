{
 "cells": [
  {
   "cell_type": "code",
   "source": [
    "from google.colab import drive\n",
    "drive.mount('/content/drive')"
   ],
   "metadata": {
    "id": "aGeb369YELIU"
   },
   "execution_count": null,
   "outputs": []
  },
  {
   "cell_type": "code",
   "execution_count": 13,
   "outputs": [
    {
     "name": "stdout",
     "output_type": "stream",
     "text": [
      "env: TOKENIZERS_PARALLELISM=false\n",
      "Requirement already satisfied: Sentencepiece in ./venv/lib/python3.9/site-packages (0.1.96)\r\n",
      "Requirement already satisfied: torch in ./venv/lib/python3.9/site-packages (1.10.2)\r\n",
      "Requirement already satisfied: typing-extensions in ./venv/lib/python3.9/site-packages (from torch) (4.1.0)\r\n",
      "Requirement already satisfied: transformers in ./venv/lib/python3.9/site-packages (4.16.2)\r\n",
      "Requirement already satisfied: filelock in ./venv/lib/python3.9/site-packages (from transformers) (3.4.2)\r\n",
      "Requirement already satisfied: packaging>=20.0 in ./venv/lib/python3.9/site-packages (from transformers) (21.3)\r\n",
      "Requirement already satisfied: requests in ./venv/lib/python3.9/site-packages (from transformers) (2.27.1)\r\n",
      "Requirement already satisfied: numpy>=1.17 in ./venv/lib/python3.9/site-packages (from transformers) (1.22.2)\r\n",
      "Requirement already satisfied: sacremoses in ./venv/lib/python3.9/site-packages (from transformers) (0.0.47)\r\n",
      "Requirement already satisfied: tokenizers!=0.11.3,>=0.10.1 in ./venv/lib/python3.9/site-packages (from transformers) (0.11.4)\r\n",
      "Requirement already satisfied: pyyaml>=5.1 in ./venv/lib/python3.9/site-packages (from transformers) (6.0)\r\n",
      "Requirement already satisfied: huggingface-hub<1.0,>=0.1.0 in ./venv/lib/python3.9/site-packages (from transformers) (0.4.0)\r\n",
      "Requirement already satisfied: tqdm>=4.27 in ./venv/lib/python3.9/site-packages (from transformers) (4.62.3)\r\n",
      "Requirement already satisfied: regex!=2019.12.17 in ./venv/lib/python3.9/site-packages (from transformers) (2022.1.18)\r\n",
      "Requirement already satisfied: typing-extensions>=3.7.4.3 in ./venv/lib/python3.9/site-packages (from huggingface-hub<1.0,>=0.1.0->transformers) (4.1.0)\r\n",
      "Requirement already satisfied: pyparsing!=3.0.5,>=2.0.2 in ./venv/lib/python3.9/site-packages (from packaging>=20.0->transformers) (3.0.7)\r\n",
      "Requirement already satisfied: certifi>=2017.4.17 in ./venv/lib/python3.9/site-packages (from requests->transformers) (2021.10.8)\r\n",
      "Requirement already satisfied: idna<4,>=2.5 in ./venv/lib/python3.9/site-packages (from requests->transformers) (3.3)\r\n",
      "Requirement already satisfied: urllib3<1.27,>=1.21.1 in ./venv/lib/python3.9/site-packages (from requests->transformers) (1.26.8)\r\n",
      "Requirement already satisfied: charset-normalizer~=2.0.0 in ./venv/lib/python3.9/site-packages (from requests->transformers) (2.0.12)\r\n",
      "Requirement already satisfied: click in ./venv/lib/python3.9/site-packages (from sacremoses->transformers) (8.0.3)\r\n",
      "Requirement already satisfied: joblib in ./venv/lib/python3.9/site-packages (from sacremoses->transformers) (1.1.0)\r\n",
      "Requirement already satisfied: six in ./venv/lib/python3.9/site-packages (from sacremoses->transformers) (1.16.0)\r\n",
      "Requirement already satisfied: nlp in ./venv/lib/python3.9/site-packages (0.4.0)\r\n",
      "Requirement already satisfied: pyarrow>=0.16.0 in ./venv/lib/python3.9/site-packages (from nlp) (7.0.0)\r\n",
      "Requirement already satisfied: requests>=2.19.0 in ./venv/lib/python3.9/site-packages (from nlp) (2.27.1)\r\n",
      "Requirement already satisfied: numpy in ./venv/lib/python3.9/site-packages (from nlp) (1.22.2)\r\n",
      "Requirement already satisfied: dill in ./venv/lib/python3.9/site-packages (from nlp) (0.3.4)\r\n",
      "Requirement already satisfied: filelock in ./venv/lib/python3.9/site-packages (from nlp) (3.4.2)\r\n",
      "Requirement already satisfied: xxhash in ./venv/lib/python3.9/site-packages (from nlp) (2.0.2)\r\n",
      "Requirement already satisfied: tqdm>=4.27 in ./venv/lib/python3.9/site-packages (from nlp) (4.62.3)\r\n",
      "Requirement already satisfied: pandas in ./venv/lib/python3.9/site-packages (from nlp) (1.4.1)\r\n",
      "Requirement already satisfied: charset-normalizer~=2.0.0 in ./venv/lib/python3.9/site-packages (from requests>=2.19.0->nlp) (2.0.12)\r\n",
      "Requirement already satisfied: certifi>=2017.4.17 in ./venv/lib/python3.9/site-packages (from requests>=2.19.0->nlp) (2021.10.8)\r\n",
      "Requirement already satisfied: idna<4,>=2.5 in ./venv/lib/python3.9/site-packages (from requests>=2.19.0->nlp) (3.3)\r\n",
      "Requirement already satisfied: urllib3<1.27,>=1.21.1 in ./venv/lib/python3.9/site-packages (from requests>=2.19.0->nlp) (1.26.8)\r\n",
      "Requirement already satisfied: python-dateutil>=2.8.1 in ./venv/lib/python3.9/site-packages (from pandas->nlp) (2.8.2)\r\n",
      "Requirement already satisfied: pytz>=2020.1 in ./venv/lib/python3.9/site-packages (from pandas->nlp) (2021.3)\r\n",
      "Requirement already satisfied: six>=1.5 in ./venv/lib/python3.9/site-packages (from python-dateutil>=2.8.1->pandas->nlp) (1.16.0)\r\n"
     ]
    },
    {
     "name": "stderr",
     "output_type": "stream",
     "text": [
      "Some weights of the model checkpoint at camembert-base were not used when initializing CamembertForSequenceClassification: ['roberta.pooler.dense.weight', 'roberta.pooler.dense.bias', 'lm_head.bias', 'lm_head.decoder.weight', 'lm_head.dense.weight', 'lm_head.layer_norm.weight', 'lm_head.dense.bias', 'lm_head.layer_norm.bias']\n",
      "- This IS expected if you are initializing CamembertForSequenceClassification from the checkpoint of a model trained on another task or with another architecture (e.g. initializing a BertForSequenceClassification model from a BertForPreTraining model).\n",
      "- This IS NOT expected if you are initializing CamembertForSequenceClassification from the checkpoint of a model that you expect to be exactly identical (initializing a BertForSequenceClassification model from a BertForSequenceClassification model).\n",
      "Some weights of CamembertForSequenceClassification were not initialized from the model checkpoint at camembert-base and are newly initialized: ['classifier.dense.weight', 'classifier.out_proj.bias', 'classifier.out_proj.weight', 'classifier.dense.bias']\n",
      "You should probably TRAIN this model on a down-stream task to be able to use it for predictions and inference.\n",
      "Using custom data configuration default\n"
     ]
    },
    {
     "data": {
      "text/plain": "  0%|          | 0/1 [00:00<?, ?it/s]",
      "application/vnd.jupyter.widget-view+json": {
       "version_major": 2,
       "version_minor": 0,
       "model_id": "6545b2e1298b449a8d863ecccc2e8892"
      }
     },
     "metadata": {},
     "output_type": "display_data"
    },
    {
     "data": {
      "text/plain": "  0%|          | 0/1 [00:00<?, ?it/s]",
      "application/vnd.jupyter.widget-view+json": {
       "version_major": 2,
       "version_minor": 0,
       "model_id": "a4710ae81b124a0dbcc6bfc684d69cd8"
      }
     },
     "metadata": {},
     "output_type": "display_data"
    },
    {
     "name": "stderr",
     "output_type": "stream",
     "text": [
      "/home/joachim/PycharmProjects/domain-helper/venv/lib/python3.9/site-packages/transformers/optimization.py:306: FutureWarning: This implementation of AdamW is deprecated and will be removed in a future version. Use thePyTorch implementation torch.optim.AdamW instead, or set `no_deprecation_warning=True` to disable this warning\n",
      "  warnings.warn(\n",
      "***** Running training *****\n",
      "  Num examples = 12601\n",
      "  Num Epochs = 8\n",
      "  Instantaneous batch size per device = 8\n",
      "  Total train batch size (w. parallel, distributed & accumulation) = 8\n",
      "  Gradient Accumulation steps = 1\n",
      "  Total optimization steps = 12608\n"
     ]
    },
    {
     "data": {
      "text/plain": "<IPython.core.display.HTML object>",
      "text/html": "\n    <div>\n      \n      <progress value='2' max='12608' style='width:300px; height:20px; vertical-align: middle;'></progress>\n      [    2/12608 : < :, Epoch 0.00/8]\n    </div>\n    <table border=\"1\" class=\"dataframe\">\n  <thead>\n <tr style=\"text-align: left;\">\n      <th>Epoch</th>\n      <th>Training Loss</th>\n      <th>Validation Loss</th>\n    </tr>\n  </thead>\n  <tbody>\n  </tbody>\n</table><p>"
     },
     "metadata": {},
     "output_type": "display_data"
    },
    {
     "name": "stderr",
     "output_type": "stream",
     "text": [
      "\n",
      "KeyboardInterrupt\n",
      "\n"
     ]
    }
   ],
   "source": [
    "from nlp import DatasetDict\n",
    "\n",
    "LABEL_NAMES = ['Arts plastiques', 'Biotech-ST2S', 'Documentation', 'EMC', 'EPS', 'Français', 'Grec ancien', 'Géographie',\n",
    "            'Histoire', 'Langues vivantes', 'Latin', 'Mathématiques', 'Physique - Chimie', 'SES', 'SVT', 'Technologie',\n",
    "            'Économie et gestion']\n",
    "DATA_PATH = '/content/drive/MyDrive/domain-helper/'\n",
    "LOG_PATH = '/content/drive/MyDrive/domain-helper/logs/'\n",
    "\n",
    "%env TOKENIZERS_PARALLELISM=false\n",
    "\n",
    "!pip install Sentencepiece\n",
    "!pip install torch\n",
    "!pip install transformers\n",
    "!pip install nlp\n",
    "\n",
    "from transformers import CamembertForSequenceClassification, CamembertTokenizerFast, Trainer, TrainingArguments\n",
    "import torch\n",
    "from nlp import load_dataset\n",
    "\n",
    "tokenizer = CamembertTokenizerFast.from_pretrained(\"camembert-base\")\n",
    "camembert = CamembertForSequenceClassification.from_pretrained(\"camembert-base\", num_labels=len(LABEL_NAMES))\n",
    "\n",
    "dataset = load_dataset('csv', data_files=str(DATA_PATH) + '/edubases_labeled_data.csv', split='train' )\n",
    "\n",
    "# 90% train, 10% test + validation\n",
    "train_test_valid = dataset.train_test_split(test_size=0.1)\n",
    "# Split the 10% test + valid in half test, half valid\n",
    "test_valid = train_test_valid['test'].train_test_split(test_size=0.5)\n",
    "# gather everyone if you want to have a single DatasetDict\n",
    "train_test_valid_dataset = DatasetDict({\n",
    "    'train': train_test_valid['train'],\n",
    "    'test': test_valid['test'],\n",
    "    'valid': test_valid['train']})\n",
    "\n",
    "train_set = train_test_valid_dataset['train']\n",
    "test_set = train_test_valid_dataset['test']\n",
    "validation_set = train_test_valid_dataset['valid']\n",
    "\n",
    "def preprocess(data):\n",
    "    return tokenizer(data['text'], padding=True, truncation=True)\n",
    "\n",
    "train_set = train_set.map(preprocess, batched=True,\n",
    "                          batch_size=len(train_set))\n",
    "test_set = test_set.map(preprocess, batched=True, batch_size=len(test_set))\n",
    "\n",
    "train_set.set_format('torch',\n",
    "                      columns=['input_ids', 'attention_mask', 'label'])\n",
    "test_set.set_format('torch',\n",
    "                     columns=['input_ids', 'attention_mask', 'label'])\n",
    "\n",
    "batch_size = 8\n",
    "epochs = 8\n",
    "\n",
    "warmup_steps = 500\n",
    "weight_decay = 0.01\n",
    "\n",
    "training_args = TrainingArguments(\n",
    "    output_dir=f'{DATA_PATH}/results',\n",
    "    label_names=LABEL_NAMES,\n",
    "    num_train_epochs=epochs,\n",
    "    per_device_train_batch_size=batch_size,\n",
    "    per_device_eval_batch_size=batch_size,\n",
    "    warmup_steps=warmup_steps,\n",
    "    weight_decay=weight_decay,\n",
    "    evaluation_strategy='epoch',\n",
    "    logging_dir='./logs',\n",
    ")\n",
    "\n",
    "trainer = Trainer(\n",
    "    model=camembert,\n",
    "    args=training_args,\n",
    "    train_dataset=train_set,\n",
    "    eval_dataset=test_set\n",
    ")\n",
    "\n",
    "trainer.train()\n",
    "trainer.evaluate()"
   ],
   "metadata": {
    "pycharm": {
     "name": "#%%\n"
    },
    "id": "ZxhXXPbVgSsQ"
   }
  },
  {
   "cell_type": "code",
   "source": [
    "eval = trainer.evaluate() "
   ],
   "metadata": {
    "id": "-bGBcDg7QNq6"
   },
   "execution_count": null,
   "outputs": []
  },
  {
   "cell_type": "code",
   "source": [
    "print(trainer)"
   ],
   "metadata": {
    "id": "_NJLOuDjQ3T6"
   },
   "execution_count": null,
   "outputs": []
  },
  {
   "cell_type": "code",
   "execution_count": null,
   "outputs": [],
   "source": [
    "!pip install Sentencepiece\n",
    "!pip install torch\n",
    "!pip install transformers\n",
    "!pip install nlp\n",
    "\n",
    "import pandas as pd\n",
    "import numpy as np\n",
    "import transformers\n",
    "import nlp\n",
    "from transformers import CamembertForSequenceClassification, CamembertTokenizerFast, Trainer, TrainingArguments\n",
    "import torch\n",
    "from nlp import load_dataset\n",
    "\n",
    "LABEL_NAMES = ['Arts plastiques', 'Biotech-ST2S', 'Documentation', 'EMC', 'EPS', 'Français', 'Grec ancien', 'Géographie',\n",
    "            'Histoire', 'Langues vivantes', 'Latin', 'Mathématiques', 'Physique - Chimie', 'SES', 'SVT', 'Technologie',\n",
    "            'Économie et gestion']\n",
    "\n",
    "tokenizer = CamembertTokenizerFast.from_pretrained(\"camembert-base\")\n",
    "\n",
    "DATA_PATH = '/content/drive/MyDrive/domain-helper/'\n",
    "\n",
    "\n",
    "# Create torch dataset\n",
    "class Dataset(torch.utils.data.Dataset):\n",
    "    def __init__(self, encodings, labels=None):\n",
    "        self.encodings = encodings\n",
    "        self.labels = labels\n",
    "\n",
    "    def __getitem__(self, idx):\n",
    "        item = {key: torch.tensor(val[idx]) for key, val in self.encodings.items()}\n",
    "        if self.labels:\n",
    "            item[\"labels\"] = torch.tensor(self.labels[idx])\n",
    "        return item\n",
    "\n",
    "    def __len__(self):\n",
    "        return len(self.encodings[\"input_ids\"])\n",
    "\n",
    "\n",
    "test_data = pd.read_csv(str(DATA_PATH) + '/gar_labeled_data2.csv')\n",
    "X_test = list(test_data[\"text\"])\n",
    "Y_test = list(test_data[\"label\"])\n",
    "X_test_tokenized = tokenizer(X_test, padding=True, truncation=True, max_length=512)\n",
    "\n",
    "# Create torch dataset\n",
    "test_dataset = Dataset(X_test_tokenized, Y_test)\n",
    "\n",
    "# Load trained model\n",
    "model_path = \"./results/checkpoint-9500\"\n",
    "model = CamembertForSequenceClassification.from_pretrained(model_path, num_labels=len(LABEL_NAMES))\n",
    "\n",
    "# Define test trainer\n",
    "test_trainer = Trainer(model)\n",
    "\n",
    "# Make prediction\n",
    "raw_pred, a, b = test_trainer.predict(test_dataset)\n",
    "\n",
    "# Preprocess raw predictions\n",
    "y_pred = np.argmax(raw_pred, axis=1)\n",
    "\n",
    "print(y_pred)\n",
    "print(a,b)"
   ],
   "metadata": {
    "pycharm": {
     "name": "#%%\n"
    },
    "id": "4ZmfrE_RgSsX"
   }
  },
  {
   "cell_type": "code",
   "execution_count": null,
   "outputs": [],
   "source": [
    "y_test = list(test_data[\"label\"])\n",
    "[[LABEL_NAMES[y_test[i]], LABEL_NAMES[y_pred[i]], X_test[i]] for i in range(0, 100)]"
   ],
   "metadata": {
    "pycharm": {
     "name": "#%%\n"
    },
    "id": "VVHfL3d6gSsY"
   }
  }
 ],
 "metadata": {
  "kernelspec": {
   "display_name": "Python 3 (ipykernel)",
   "language": "python",
   "name": "python3"
  },
  "language_info": {
   "codemirror_mode": {
    "name": "ipython",
    "version": 3
   },
   "file_extension": ".py",
   "mimetype": "text/x-python",
   "name": "python",
   "nbconvert_exporter": "python",
   "pygments_lexer": "ipython3",
   "version": "3.9.5"
  },
  "colab": {
   "name": "training_cam.ipynb",
   "provenance": [],
   "machine_shape": "hm",
   "collapsed_sections": []
  },
  "accelerator": "GPU"
 },
 "nbformat": 4,
 "nbformat_minor": 0
}